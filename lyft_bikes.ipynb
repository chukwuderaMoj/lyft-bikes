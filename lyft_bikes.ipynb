{
 "cells": [
  {
   "cell_type": "markdown",
   "metadata": {},
   "source": [
    "# BIG QUERY PROJECT"
   ]
  },
  {
   "cell_type": "markdown",
   "metadata": {},
   "source": [
    "Lyft Bay Wheels (https://www.lyft.com/bikes/bay-wheels), formerly known as Ford GoBike, the company running Bay Area Bikeshare. I will be analysing the public data with the goal to suggest deals and offers to increase ridership.\n",
    "  \n",
    "I will answer these main questions: \n",
    "\n",
    "  * What the popular \"commuter trips\"? \n",
    "  \n",
    "  * What are your recommendations for offers (justified based findings)?\n",
    "\n",
    "\n",
    "To make my recommendations, I will need to perform data exploration, cleaning or filtering dirty data, etc. to provide supporting data for my recommendations. \n",
    "\n",
    "I be answering these business-driven questions using public datasets housed in Google Cloud Platform (GCP) and quering the data with SQL."
   ]
  },
  {
   "cell_type": "code",
   "execution_count": 44,
   "metadata": {},
   "outputs": [
    {
     "data": {
      "text/plain": [
       "'/Users/dera/Desktop/github/lyft-bikes'"
      ]
     },
     "execution_count": 44,
     "metadata": {},
     "output_type": "execute_result"
    }
   ],
   "source": [
    "import os\n",
    "os.getcwd()"
   ]
  },
  {
   "cell_type": "code",
   "execution_count": 45,
   "metadata": {},
   "outputs": [],
   "source": [
    "import os\n",
    "os.environ['GOOGLE_APPLICATION_CREDENTIALS'] ='/Users/dera/Desktop/github/lyft-bikes/w205-300800-f62fea1f1496.json'"
   ]
  },
  {
   "cell_type": "code",
   "execution_count": 46,
   "metadata": {},
   "outputs": [],
   "source": [
    "# To import big query (bq) and bq client.\n",
    "\n",
    "from google.cloud import bigquery\n",
    "\n",
    "bigquery_client = bigquery.Client()\n",
    "\n",
    "import seaborn as sns"
   ]
  },
  {
   "cell_type": "markdown",
   "metadata": {},
   "source": [
    "I will be using the **san_francisco_bikeshare** dataset. \n",
    "\n",
    "This dataset has tables bikeshare_regions, bikeshare_station_info, bikeshare_station_status, bikeshare trips."
   ]
  },
  {
   "cell_type": "markdown",
   "metadata": {},
   "source": [
    "### Initial questions to understand the dataset\n",
    "\n",
    "- What's the number of trips in the data set?\n",
    "\n",
    "- How many bikes are there?\n",
    "\n",
    "- What is the length of a trip?\n",
    "\n",
    "- What is the earliest start date and latest end date for a trip in the dataset?"
   ]
  },
  {
   "cell_type": "code",
   "execution_count": 47,
   "metadata": {},
   "outputs": [
    {
     "data": {
      "text/html": [
       "<div>\n",
       "<style scoped>\n",
       "    .dataframe tbody tr th:only-of-type {\n",
       "        vertical-align: middle;\n",
       "    }\n",
       "\n",
       "    .dataframe tbody tr th {\n",
       "        vertical-align: top;\n",
       "    }\n",
       "\n",
       "    .dataframe thead th {\n",
       "        text-align: right;\n",
       "    }\n",
       "</style>\n",
       "<table border=\"1\" class=\"dataframe\">\n",
       "  <thead>\n",
       "    <tr style=\"text-align: right;\">\n",
       "      <th></th>\n",
       "      <th>trips_size</th>\n",
       "    </tr>\n",
       "  </thead>\n",
       "  <tbody>\n",
       "    <tr>\n",
       "      <th>0</th>\n",
       "      <td>1947419</td>\n",
       "    </tr>\n",
       "  </tbody>\n",
       "</table>\n",
       "</div>"
      ],
      "text/plain": [
       "   trips_size\n",
       "0     1947419"
      ]
     },
     "metadata": {},
     "output_type": "display_data"
    }
   ],
   "source": [
    "# Query the number of unique trips in the bikeshare_trips table\n",
    "\n",
    "trips_size_query = \"\"\"\n",
    "\n",
    "SELECT \n",
    "  count(trip_id) as trips_size\n",
    "  \n",
    "FROM \n",
    "  `bigquery-public-data.san_francisco_bikeshare.bikeshare_trips` \n",
    "  \n",
    "\"\"\"\n",
    "\n",
    "trips_size_job = bigquery_client.query(trips_size_query)\n",
    "trips_size_df = trips_size_job.to_dataframe()\n",
    "display(trips_size_df)"
   ]
  },
  {
   "cell_type": "code",
   "execution_count": 48,
   "metadata": {},
   "outputs": [
    {
     "data": {
      "text/html": [
       "<div>\n",
       "<style scoped>\n",
       "    .dataframe tbody tr th:only-of-type {\n",
       "        vertical-align: middle;\n",
       "    }\n",
       "\n",
       "    .dataframe tbody tr th {\n",
       "        vertical-align: top;\n",
       "    }\n",
       "\n",
       "    .dataframe thead th {\n",
       "        text-align: right;\n",
       "    }\n",
       "</style>\n",
       "<table border=\"1\" class=\"dataframe\">\n",
       "  <thead>\n",
       "    <tr style=\"text-align: right;\">\n",
       "      <th></th>\n",
       "      <th>no_of_bikes</th>\n",
       "    </tr>\n",
       "  </thead>\n",
       "  <tbody>\n",
       "    <tr>\n",
       "      <th>0</th>\n",
       "      <td>3952</td>\n",
       "    </tr>\n",
       "  </tbody>\n",
       "</table>\n",
       "</div>"
      ],
      "text/plain": [
       "   no_of_bikes\n",
       "0         3952"
      ]
     },
     "metadata": {},
     "output_type": "display_data"
    }
   ],
   "source": [
    "# Query the number of bikes in the bikeshare_trips table\n",
    "\n",
    "bikes_no_query = \"\"\"\n",
    "\n",
    "SELECT \n",
    "  count(DISTINCT bike_number) as no_of_bikes\n",
    "  \n",
    "FROM \n",
    "  `bigquery-public-data.san_francisco_bikeshare.bikeshare_trips` \n",
    "  \n",
    "\"\"\"\n",
    "\n",
    "bikes_no_job = bigquery_client.query(bikes_no_query)\n",
    "bikes_no_df = bikes_no_job.to_dataframe()\n",
    "display(bikes_no_df)"
   ]
  },
  {
   "cell_type": "code",
   "execution_count": 49,
   "metadata": {},
   "outputs": [
    {
     "data": {
      "text/html": [
       "<div>\n",
       "<style scoped>\n",
       "    .dataframe tbody tr th:only-of-type {\n",
       "        vertical-align: middle;\n",
       "    }\n",
       "\n",
       "    .dataframe tbody tr th {\n",
       "        vertical-align: top;\n",
       "    }\n",
       "\n",
       "    .dataframe thead th {\n",
       "        text-align: right;\n",
       "    }\n",
       "</style>\n",
       "<table border=\"1\" class=\"dataframe\">\n",
       "  <thead>\n",
       "    <tr style=\"text-align: right;\">\n",
       "      <th></th>\n",
       "      <th>average_duration_sec</th>\n",
       "    </tr>\n",
       "  </thead>\n",
       "  <tbody>\n",
       "    <tr>\n",
       "      <th>0</th>\n",
       "      <td>1007.971298</td>\n",
       "    </tr>\n",
       "  </tbody>\n",
       "</table>\n",
       "</div>"
      ],
      "text/plain": [
       "   average_duration_sec\n",
       "0           1007.971298"
      ]
     },
     "metadata": {},
     "output_type": "display_data"
    }
   ],
   "source": [
    "# Query the length of a trip\n",
    "\n",
    "trip_length_query = \"\"\"\n",
    "\n",
    "SELECT \n",
    "  AVG(duration_sec) as average_duration_sec\n",
    "  \n",
    "FROM \n",
    "  `bigquery-public-data.san_francisco_bikeshare.bikeshare_trips` \n",
    "  \n",
    "\"\"\"\n",
    "\n",
    "trip_length_job = bigquery_client.query(trip_length_query)\n",
    "trip_length_df = trip_length_job.to_dataframe()\n",
    "display(trip_length_df)"
   ]
  },
  {
   "cell_type": "code",
   "execution_count": 50,
   "metadata": {},
   "outputs": [
    {
     "data": {
      "text/html": [
       "<div>\n",
       "<style scoped>\n",
       "    .dataframe tbody tr th:only-of-type {\n",
       "        vertical-align: middle;\n",
       "    }\n",
       "\n",
       "    .dataframe tbody tr th {\n",
       "        vertical-align: top;\n",
       "    }\n",
       "\n",
       "    .dataframe thead th {\n",
       "        text-align: right;\n",
       "    }\n",
       "</style>\n",
       "<table border=\"1\" class=\"dataframe\">\n",
       "  <thead>\n",
       "    <tr style=\"text-align: right;\">\n",
       "      <th></th>\n",
       "      <th>earliest_start_date_</th>\n",
       "    </tr>\n",
       "  </thead>\n",
       "  <tbody>\n",
       "    <tr>\n",
       "      <th>0</th>\n",
       "      <td>2013-08-29</td>\n",
       "    </tr>\n",
       "  </tbody>\n",
       "</table>\n",
       "</div>"
      ],
      "text/plain": [
       "  earliest_start_date_\n",
       "0           2013-08-29"
      ]
     },
     "metadata": {},
     "output_type": "display_data"
    },
    {
     "data": {
      "text/html": [
       "<div>\n",
       "<style scoped>\n",
       "    .dataframe tbody tr th:only-of-type {\n",
       "        vertical-align: middle;\n",
       "    }\n",
       "\n",
       "    .dataframe tbody tr th {\n",
       "        vertical-align: top;\n",
       "    }\n",
       "\n",
       "    .dataframe thead th {\n",
       "        text-align: right;\n",
       "    }\n",
       "</style>\n",
       "<table border=\"1\" class=\"dataframe\">\n",
       "  <thead>\n",
       "    <tr style=\"text-align: right;\">\n",
       "      <th></th>\n",
       "      <th>latest_start_date_</th>\n",
       "    </tr>\n",
       "  </thead>\n",
       "  <tbody>\n",
       "    <tr>\n",
       "      <th>0</th>\n",
       "      <td>2018-04-30</td>\n",
       "    </tr>\n",
       "  </tbody>\n",
       "</table>\n",
       "</div>"
      ],
      "text/plain": [
       "  latest_start_date_\n",
       "0         2018-04-30"
      ]
     },
     "metadata": {},
     "output_type": "display_data"
    }
   ],
   "source": [
    "# Query the earliest start date  for a trip in the dataset\n",
    "earliest_start_date_query = \"\"\"\n",
    "\n",
    "SELECT \n",
    "  EXTRACT(DATE FROM start_date) as earliest_start_date_\n",
    "  \n",
    "FROM \n",
    "  `bigquery-public-data.san_francisco_bikeshare.bikeshare_trips` \n",
    "  \n",
    "ORDER BY\n",
    "  start_date ASC \n",
    "  \n",
    "LIMIT 1\n",
    "  \n",
    "\"\"\"\n",
    "\n",
    "earliest_start_date_job = bigquery_client.query(earliest_start_date_query)\n",
    "earliest_start_date_df = earliest_start_date_job.to_dataframe()\n",
    "display(earliest_start_date_df)\n",
    "\n",
    "# Query the latest end date for a trip in the dataset\n",
    "\n",
    "latest_start_date_query = \"\"\"\n",
    "\n",
    "SELECT \n",
    "  EXTRACT(DATE FROM start_date) as latest_start_date_\n",
    "  \n",
    "FROM \n",
    "  `bigquery-public-data.san_francisco_bikeshare.bikeshare_trips` \n",
    "  \n",
    "ORDER BY\n",
    "  start_date DESC \n",
    "  \n",
    "LIMIT 1\n",
    "  \n",
    "\"\"\"\n",
    "\n",
    "latest_start_date_job = bigquery_client.query(latest_start_date_query)\n",
    "latest_start_date_df = latest_start_date_job.to_dataframe()\n",
    "display(latest_start_date_df)"
   ]
  },
  {
   "cell_type": "markdown",
   "metadata": {},
   "source": [
    "### Deep dive into the trip routes\n",
    "\n",
    "- What's the most popular stations to start and end trips?\n",
    "\n",
    "- What are the most popular routes?"
   ]
  },
  {
   "cell_type": "code",
   "execution_count": 51,
   "metadata": {},
   "outputs": [
    {
     "data": {
      "text/html": [
       "<div>\n",
       "<style scoped>\n",
       "    .dataframe tbody tr th:only-of-type {\n",
       "        vertical-align: middle;\n",
       "    }\n",
       "\n",
       "    .dataframe tbody tr th {\n",
       "        vertical-align: top;\n",
       "    }\n",
       "\n",
       "    .dataframe thead th {\n",
       "        text-align: right;\n",
       "    }\n",
       "</style>\n",
       "<table border=\"1\" class=\"dataframe\">\n",
       "  <thead>\n",
       "    <tr style=\"text-align: right;\">\n",
       "      <th></th>\n",
       "      <th>start_station_name</th>\n",
       "      <th>region_name</th>\n",
       "      <th>freq</th>\n",
       "    </tr>\n",
       "  </thead>\n",
       "  <tbody>\n",
       "    <tr>\n",
       "      <th>0</th>\n",
       "      <td>San Francisco Caltrain (Townsend at 4th)</td>\n",
       "      <td>San Francisco</td>\n",
       "      <td>72683</td>\n",
       "    </tr>\n",
       "    <tr>\n",
       "      <th>1</th>\n",
       "      <td>San Francisco Caltrain 2 (330 Townsend)</td>\n",
       "      <td>None</td>\n",
       "      <td>56100</td>\n",
       "    </tr>\n",
       "    <tr>\n",
       "      <th>2</th>\n",
       "      <td>Harry Bridges Plaza (Ferry Building)</td>\n",
       "      <td>San Francisco</td>\n",
       "      <td>49062</td>\n",
       "    </tr>\n",
       "    <tr>\n",
       "      <th>3</th>\n",
       "      <td>Embarcadero at Sansome</td>\n",
       "      <td>San Francisco</td>\n",
       "      <td>41137</td>\n",
       "    </tr>\n",
       "    <tr>\n",
       "      <th>4</th>\n",
       "      <td>2nd at Townsend</td>\n",
       "      <td>San Francisco</td>\n",
       "      <td>39936</td>\n",
       "    </tr>\n",
       "  </tbody>\n",
       "</table>\n",
       "</div>"
      ],
      "text/plain": [
       "                         start_station_name    region_name   freq\n",
       "0  San Francisco Caltrain (Townsend at 4th)  San Francisco  72683\n",
       "1   San Francisco Caltrain 2 (330 Townsend)           None  56100\n",
       "2      Harry Bridges Plaza (Ferry Building)  San Francisco  49062\n",
       "3                    Embarcadero at Sansome  San Francisco  41137\n",
       "4                           2nd at Townsend  San Francisco  39936"
      ]
     },
     "metadata": {},
     "output_type": "display_data"
    }
   ],
   "source": [
    "# Query the most popular start stations\n",
    "\n",
    "start_stations_query = \"\"\"\n",
    "\n",
    "SELECT \n",
    "  A.start_station_name, C.name as region_name, count(*) as freq \n",
    "  \n",
    "FROM \n",
    "  `bigquery-public-data.san_francisco_bikeshare.bikeshare_trips` AS A\n",
    "  \n",
    "LEFT JOIN\n",
    "  `bigquery-public-data.san_francisco_bikeshare.bikeshare_station_info` AS B\n",
    "  \n",
    "ON\n",
    "  A.start_station_id = B.station_id\n",
    "  \n",
    "LEFT JOIN \n",
    "  `bigquery-public-data.san_francisco_bikeshare.bikeshare_regions` AS C\n",
    "  \n",
    "ON\n",
    "  B.region_id = C.region_id\n",
    "  \n",
    "GROUP BY \n",
    "  A.start_station_name, C.name\n",
    "  \n",
    "ORDER BY\n",
    "  freq DESC \n",
    "  \n",
    "LIMIT 25\n",
    "\n",
    "\"\"\"\n",
    "\n",
    "start_stations_job = bigquery_client.query(start_stations_query)\n",
    "start_stations_df = start_stations_job.to_dataframe()\n",
    "display(start_stations_df[:5])"
   ]
  },
  {
   "cell_type": "code",
   "execution_count": 52,
   "metadata": {},
   "outputs": [
    {
     "data": {
      "text/html": [
       "<div>\n",
       "<style scoped>\n",
       "    .dataframe tbody tr th:only-of-type {\n",
       "        vertical-align: middle;\n",
       "    }\n",
       "\n",
       "    .dataframe tbody tr th {\n",
       "        vertical-align: top;\n",
       "    }\n",
       "\n",
       "    .dataframe thead th {\n",
       "        text-align: right;\n",
       "    }\n",
       "</style>\n",
       "<table border=\"1\" class=\"dataframe\">\n",
       "  <thead>\n",
       "    <tr style=\"text-align: right;\">\n",
       "      <th></th>\n",
       "      <th>end_station_name</th>\n",
       "      <th>region_name</th>\n",
       "      <th>freq</th>\n",
       "    </tr>\n",
       "  </thead>\n",
       "  <tbody>\n",
       "    <tr>\n",
       "      <th>0</th>\n",
       "      <td>San Francisco Caltrain (Townsend at 4th)</td>\n",
       "      <td>San Francisco</td>\n",
       "      <td>92014</td>\n",
       "    </tr>\n",
       "    <tr>\n",
       "      <th>1</th>\n",
       "      <td>San Francisco Caltrain 2 (330 Townsend)</td>\n",
       "      <td>None</td>\n",
       "      <td>58713</td>\n",
       "    </tr>\n",
       "    <tr>\n",
       "      <th>2</th>\n",
       "      <td>Harry Bridges Plaza (Ferry Building)</td>\n",
       "      <td>San Francisco</td>\n",
       "      <td>50185</td>\n",
       "    </tr>\n",
       "    <tr>\n",
       "      <th>3</th>\n",
       "      <td>Embarcadero at Sansome</td>\n",
       "      <td>San Francisco</td>\n",
       "      <td>46197</td>\n",
       "    </tr>\n",
       "    <tr>\n",
       "      <th>4</th>\n",
       "      <td>2nd at Townsend</td>\n",
       "      <td>San Francisco</td>\n",
       "      <td>44145</td>\n",
       "    </tr>\n",
       "  </tbody>\n",
       "</table>\n",
       "</div>"
      ],
      "text/plain": [
       "                           end_station_name    region_name   freq\n",
       "0  San Francisco Caltrain (Townsend at 4th)  San Francisco  92014\n",
       "1   San Francisco Caltrain 2 (330 Townsend)           None  58713\n",
       "2      Harry Bridges Plaza (Ferry Building)  San Francisco  50185\n",
       "3                    Embarcadero at Sansome  San Francisco  46197\n",
       "4                           2nd at Townsend  San Francisco  44145"
      ]
     },
     "metadata": {},
     "output_type": "display_data"
    }
   ],
   "source": [
    "# Query the most popular end stations\n",
    "\n",
    "end_stations_query = \"\"\"\n",
    "\n",
    "SELECT \n",
    "  A.end_station_name, C.name as region_name, count(*) as freq \n",
    "  \n",
    "FROM \n",
    "  `bigquery-public-data.san_francisco_bikeshare.bikeshare_trips` AS A\n",
    "  \n",
    "LEFT JOIN\n",
    "  `bigquery-public-data.san_francisco_bikeshare.bikeshare_station_info` AS B\n",
    "  \n",
    "ON\n",
    "  A.end_station_id = B.station_id\n",
    "  \n",
    "LEFT JOIN \n",
    "  `bigquery-public-data.san_francisco_bikeshare.bikeshare_regions` AS C\n",
    "  \n",
    "ON\n",
    "  B.region_id = C.region_id\n",
    "  \n",
    "GROUP BY \n",
    "  A.end_station_name, C.name\n",
    "  \n",
    "ORDER BY\n",
    "  freq DESC \n",
    "  \n",
    "LIMIT 25\n",
    "\n",
    "\"\"\"\n",
    "\n",
    "end_stations_job = bigquery_client.query(end_stations_query)\n",
    "end_stations_df = end_stations_job.to_dataframe()\n",
    "display(end_stations_df[:5])"
   ]
  },
  {
   "cell_type": "code",
   "execution_count": 53,
   "metadata": {},
   "outputs": [
    {
     "data": {
      "text/html": [
       "<div>\n",
       "<style scoped>\n",
       "    .dataframe tbody tr th:only-of-type {\n",
       "        vertical-align: middle;\n",
       "    }\n",
       "\n",
       "    .dataframe tbody tr th {\n",
       "        vertical-align: top;\n",
       "    }\n",
       "\n",
       "    .dataframe thead th {\n",
       "        text-align: right;\n",
       "    }\n",
       "</style>\n",
       "<table border=\"1\" class=\"dataframe\">\n",
       "  <thead>\n",
       "    <tr style=\"text-align: right;\">\n",
       "      <th></th>\n",
       "      <th>start_station_name</th>\n",
       "      <th>end_station_name</th>\n",
       "      <th>trip_freq</th>\n",
       "    </tr>\n",
       "  </thead>\n",
       "  <tbody>\n",
       "    <tr>\n",
       "      <th>0</th>\n",
       "      <td>Harry Bridges Plaza (Ferry Building)</td>\n",
       "      <td>Embarcadero at Sansome</td>\n",
       "      <td>9150</td>\n",
       "    </tr>\n",
       "    <tr>\n",
       "      <th>1</th>\n",
       "      <td>San Francisco Caltrain 2 (330 Townsend)</td>\n",
       "      <td>Townsend at 7th</td>\n",
       "      <td>8508</td>\n",
       "    </tr>\n",
       "    <tr>\n",
       "      <th>2</th>\n",
       "      <td>2nd at Townsend</td>\n",
       "      <td>Harry Bridges Plaza (Ferry Building)</td>\n",
       "      <td>7620</td>\n",
       "    </tr>\n",
       "    <tr>\n",
       "      <th>3</th>\n",
       "      <td>Harry Bridges Plaza (Ferry Building)</td>\n",
       "      <td>2nd at Townsend</td>\n",
       "      <td>6888</td>\n",
       "    </tr>\n",
       "    <tr>\n",
       "      <th>4</th>\n",
       "      <td>Embarcadero at Sansome</td>\n",
       "      <td>Steuart at Market</td>\n",
       "      <td>6874</td>\n",
       "    </tr>\n",
       "  </tbody>\n",
       "</table>\n",
       "</div>"
      ],
      "text/plain": [
       "                        start_station_name  \\\n",
       "0     Harry Bridges Plaza (Ferry Building)   \n",
       "1  San Francisco Caltrain 2 (330 Townsend)   \n",
       "2                          2nd at Townsend   \n",
       "3     Harry Bridges Plaza (Ferry Building)   \n",
       "4                   Embarcadero at Sansome   \n",
       "\n",
       "                       end_station_name  trip_freq  \n",
       "0                Embarcadero at Sansome       9150  \n",
       "1                       Townsend at 7th       8508  \n",
       "2  Harry Bridges Plaza (Ferry Building)       7620  \n",
       "3                       2nd at Townsend       6888  \n",
       "4                     Steuart at Market       6874  "
      ]
     },
     "metadata": {},
     "output_type": "display_data"
    }
   ],
   "source": [
    "# Query the most popular trip routes\n",
    "\n",
    "trip_route_query = \"\"\"\n",
    "SELECT \n",
    "  start_station_name, end_station_name, count(*) as trip_freq \n",
    "  \n",
    "FROM \n",
    "  `bigquery-public-data.san_francisco_bikeshare.bikeshare_trips` \n",
    "  \n",
    "GROUP BY \n",
    "  start_station_name, end_station_name \n",
    "  \n",
    "ORDER BY \n",
    "  trip_freq DESC \n",
    "\n",
    "LIMIT 5\n",
    "\n",
    "\"\"\"\n",
    "\n",
    "trip_route_job = bigquery_client.query(trip_route_query)\n",
    "trip_route_df = trip_route_job.to_dataframe()\n",
    "display(trip_route_df[:5])"
   ]
  },
  {
   "cell_type": "markdown",
   "metadata": {},
   "source": [
    "### Deep dive into time trips are taken\n",
    "\n",
    "- What times are trips most usually taken?"
   ]
  },
  {
   "cell_type": "code",
   "execution_count": 54,
   "metadata": {},
   "outputs": [],
   "source": [
    "# Query the most trip start times\n",
    "\n",
    "start_time_query = \"\"\"\n",
    "\n",
    "SELECT \n",
    "  EXTRACT(HOUR FROM start_date) AS trip_start_hour, count(*) as freq \n",
    "  \n",
    "FROM \n",
    "  `bigquery-public-data.san_francisco_bikeshare.bikeshare_trips` \n",
    "  \n",
    "GROUP BY \n",
    "  trip_start_hour\n",
    "  \n",
    "ORDER BY \n",
    "  freq DESC \n",
    "  \n",
    "\"\"\"\n",
    "\n",
    "start_time_job = bigquery_client.query(start_time_query)\n",
    "start_time_df = start_time_job.to_dataframe()"
   ]
  },
  {
   "cell_type": "code",
   "execution_count": 55,
   "metadata": {},
   "outputs": [
    {
     "data": {
      "text/plain": [
       "Text(0.5, 1.0, 'Start Time Popularity')"
      ]
     },
     "execution_count": 55,
     "metadata": {},
     "output_type": "execute_result"
    },
    {
     "data": {
      "image/png": "[encoded data removed]",
      "text/plain": [
       "<Figure size 432x288 with 1 Axes>"
      ]
     },
     "metadata": {
      "needs_background": "light"
     },
     "output_type": "display_data"
    }
   ],
   "source": [
    "# Plot histogram\n",
    "sns.barplot(x=\"trip_start_hour\", y=\"freq\", data=start_time_df, palette=\"crest\").set_title('Start Time Popularity')"
   ]
  },
  {
   "cell_type": "markdown",
   "metadata": {},
   "source": [
    "Looking at the bar chart for most popular trip start times, 8am and 5pm are the most popular hours for trips. The frequency plot has a bimodal distribution around these two times. \n",
    "\n",
    "It does appear the \"commuting\" hours are the most popular hours trips are taken. Morning commute 7am-10am and Evening commute 4pm-7pm. \n",
    "\n",
    "Looking at the most popular start/end trip stations as well as the most popular trip routes, it shows that most trips start and end at train stations or popular communting hubs. This shows us that most of the bike users utilize the product as \"First and Last Mile Travel\". \n",
    "\n",
    "#### **Offer Suggestion:**\n",
    "To better capture and serve these users, I would suggest Lyft Bikes offer a subscription service with discounted rates during these \"commuting hours\". Such an offer will motivate the use of the bikes in daily commuting routes to and from the train station/hubs."
   ]
  }
 ],
 "metadata": {
  "kernelspec": {
   "display_name": "Python 3",
   "language": "python",
   "name": "python3"
  },
  "language_info": {
   "codemirror_mode": {
    "name": "ipython",
    "version": 3
   },
   "file_extension": ".py",
   "mimetype": "text/x-python",
   "name": "python",
   "nbconvert_exporter": "python",
   "pygments_lexer": "ipython3",
   "version": "3.8.8"
  }
 },
 "nbformat": 4,
 "nbformat_minor": 4
}
